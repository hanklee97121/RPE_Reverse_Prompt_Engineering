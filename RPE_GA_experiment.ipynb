{
 "cells": [
  {
   "cell_type": "code",
   "execution_count": null,
   "metadata": {
    "id": "6k2rtp0H8H3I"
   },
   "outputs": [],
   "source": [
    "import pandas as pd\n",
    "import json\n",
    "from tqdm.notebook import trange, tqdm #if running in jupyter notebook\n",
    "#from tqdm import trange, tqdm #if running python script\n",
    "from RPE_ga import Reverse_Prompt_Engineering"
   ]
  },
  {
   "cell_type": "code",
   "execution_count": null,
   "metadata": {},
   "outputs": [],
   "source": [
    "#read answer file if initial answers are provided\n",
    "# with open(\"results/ori_answers.json\", \"r\") as f:\n",
    "#     ori_answers = json.load(f)"
   ]
  },
  {
   "cell_type": "code",
   "execution_count": null,
   "metadata": {},
   "outputs": [],
   "source": [
    "#read dataset\n",
    "data_prompt = pd.read_csv(\"RE_hard.csv\", index_col=0)\n",
    "list_prompt = list(data_prompt[\"prompt\"])\n",
    "\n",
    "#record initial answers\n",
    "ori_answers = []\n",
    "#record final answer\n",
    "final_outputs = []\n",
    "#initialize optimizer\n",
    "RPE = Reverse_Prompt_Engineering(X=5, N=5, model=\"gpt-3.5-turbo\", tag_model=\"en_core_web_trf\")\n",
    "n = len(list_prompt)\n",
    "print(\"Algorithm starts\")\n",
    "for i in trange(n):\n",
    "    p = list_prompt[i]\n",
    "    RPE.reset(X=5, N=5)\n",
    "    #o_answers = ori_answers[i]\n",
    "    RPE.generate_answers(prompt=p, answers=[], n=5)\n",
    "    #RPE.generate_answers(prompt=p, answers=o_answers, n=5)\n",
    "    output = RPE(ini_prompts=None, ini_scores=None, ini_total_scores=None, ini_answers=None)\n",
    "    final_outputs.append(output)\n",
    "    ori_answers.append(RPE.answers)\n",
    "    \n",
    "#save final prompt and initial answers\n",
    "with open('results/final_outputs.json', 'w') as outfile:\n",
    "    json.dump(final_outputs, outfile)\n",
    "with open('results/ori_answers.json', 'w') as outfile:\n",
    "    json.dump(ori_answers, outfile)"
   ]
  }
 ],
 "metadata": {
  "colab": {
   "provenance": []
  },
  "kernelspec": {
   "display_name": "Python 3 (ipykernel)",
   "language": "python",
   "name": "python3"
  },
  "language_info": {
   "codemirror_mode": {
    "name": "ipython",
    "version": 3
   },
   "file_extension": ".py",
   "mimetype": "text/x-python",
   "name": "python",
   "nbconvert_exporter": "python",
   "pygments_lexer": "ipython3",
   "version": "3.8.10"
  }
 },
 "nbformat": 4,
 "nbformat_minor": 4
}
